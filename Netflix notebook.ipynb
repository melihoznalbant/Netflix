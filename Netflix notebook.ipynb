{
 "cells": [
  {
   "cell_type": "code",
   "execution_count": 1,
   "metadata": {},
   "outputs": [],
   "source": [
    "\n",
    "import seaborn as sns\n",
    "import numpy as np\n",
    "import matplotlib.pyplot as plt\n",
    "import pandas as pd\n",
    "from scipy.stats import shapiro, levene,f_oneway, kruskal\n",
    "df = pd.read_csv(\"datasets/netflixData.csv\").copy()\n",
    "pd.set_option ('display.max_columns',None)\n",
    "pd.set_option(\"display.width\",500)"
   ]
  },
  {
   "cell_type": "code",
   "execution_count": 2,
   "metadata": {},
   "outputs": [
    {
     "data": {
      "text/html": [
       "<div>\n",
       "<style scoped>\n",
       "    .dataframe tbody tr th:only-of-type {\n",
       "        vertical-align: middle;\n",
       "    }\n",
       "\n",
       "    .dataframe tbody tr th {\n",
       "        vertical-align: top;\n",
       "    }\n",
       "\n",
       "    .dataframe thead th {\n",
       "        text-align: right;\n",
       "    }\n",
       "</style>\n",
       "<table border=\"1\" class=\"dataframe\">\n",
       "  <thead>\n",
       "    <tr style=\"text-align: right;\">\n",
       "      <th></th>\n",
       "      <th>Show Id</th>\n",
       "      <th>Title</th>\n",
       "      <th>Description</th>\n",
       "      <th>Director</th>\n",
       "      <th>Genres</th>\n",
       "      <th>Cast</th>\n",
       "      <th>Production Country</th>\n",
       "      <th>Release Date</th>\n",
       "      <th>Rating</th>\n",
       "      <th>Duration</th>\n",
       "      <th>Imdb Score</th>\n",
       "      <th>Content Type</th>\n",
       "      <th>Date Added</th>\n",
       "    </tr>\n",
       "  </thead>\n",
       "  <tbody>\n",
       "    <tr>\n",
       "      <th>0</th>\n",
       "      <td>cc1b6ed9-cf9e-4057-8303-34577fb54477</td>\n",
       "      <td>(Un)Well</td>\n",
       "      <td>This docuseries takes a deep dive into the luc...</td>\n",
       "      <td>NaN</td>\n",
       "      <td>Reality TV</td>\n",
       "      <td>NaN</td>\n",
       "      <td>United States</td>\n",
       "      <td>2020.0</td>\n",
       "      <td>TV-MA</td>\n",
       "      <td>1 Season</td>\n",
       "      <td>6.6/10</td>\n",
       "      <td>TV Show</td>\n",
       "      <td>NaN</td>\n",
       "    </tr>\n",
       "    <tr>\n",
       "      <th>1</th>\n",
       "      <td>e2ef4e91-fb25-42ab-b485-be8e3b23dedb</td>\n",
       "      <td>#Alive</td>\n",
       "      <td>As a grisly virus rampages a city, a lone man ...</td>\n",
       "      <td>Cho Il</td>\n",
       "      <td>Horror Movies, International Movies, Thrillers</td>\n",
       "      <td>Yoo Ah-in, Park Shin-hye</td>\n",
       "      <td>South Korea</td>\n",
       "      <td>2020.0</td>\n",
       "      <td>TV-MA</td>\n",
       "      <td>99 min</td>\n",
       "      <td>6.2/10</td>\n",
       "      <td>Movie</td>\n",
       "      <td>September 8, 2020</td>\n",
       "    </tr>\n",
       "    <tr>\n",
       "      <th>2</th>\n",
       "      <td>b01b73b7-81f6-47a7-86d8-acb63080d525</td>\n",
       "      <td>#AnneFrank - Parallel Stories</td>\n",
       "      <td>Through her diary, Anne Frank's story is retol...</td>\n",
       "      <td>Sabina Fedeli, Anna Migotto</td>\n",
       "      <td>Documentaries, International Movies</td>\n",
       "      <td>Helen Mirren, Gengher Gatti</td>\n",
       "      <td>Italy</td>\n",
       "      <td>2019.0</td>\n",
       "      <td>TV-14</td>\n",
       "      <td>95 min</td>\n",
       "      <td>6.4/10</td>\n",
       "      <td>Movie</td>\n",
       "      <td>July 1, 2020</td>\n",
       "    </tr>\n",
       "    <tr>\n",
       "      <th>3</th>\n",
       "      <td>b6611af0-f53c-4a08-9ffa-9716dc57eb9c</td>\n",
       "      <td>#blackAF</td>\n",
       "      <td>Kenya Barris and his family navigate relations...</td>\n",
       "      <td>NaN</td>\n",
       "      <td>TV Comedies</td>\n",
       "      <td>Kenya Barris, Rashida Jones, Iman Benson, Genn...</td>\n",
       "      <td>United States</td>\n",
       "      <td>2020.0</td>\n",
       "      <td>TV-MA</td>\n",
       "      <td>1 Season</td>\n",
       "      <td>6.6/10</td>\n",
       "      <td>TV Show</td>\n",
       "      <td>NaN</td>\n",
       "    </tr>\n",
       "    <tr>\n",
       "      <th>4</th>\n",
       "      <td>7f2d4170-bab8-4d75-adc2-197f7124c070</td>\n",
       "      <td>#cats_the_mewvie</td>\n",
       "      <td>This pawesome documentary explores how our fel...</td>\n",
       "      <td>Michael Margolis</td>\n",
       "      <td>Documentaries, International Movies</td>\n",
       "      <td>NaN</td>\n",
       "      <td>Canada</td>\n",
       "      <td>2020.0</td>\n",
       "      <td>TV-14</td>\n",
       "      <td>90 min</td>\n",
       "      <td>5.1/10</td>\n",
       "      <td>Movie</td>\n",
       "      <td>February 5, 2020</td>\n",
       "    </tr>\n",
       "  </tbody>\n",
       "</table>\n",
       "</div>"
      ],
      "text/plain": [
       "                                Show Id                          Title                                        Description                     Director                                          Genres                                               Cast Production Country  Release Date Rating  Duration Imdb Score Content Type         Date Added\n",
       "0  cc1b6ed9-cf9e-4057-8303-34577fb54477                       (Un)Well  This docuseries takes a deep dive into the luc...                          NaN                                      Reality TV                                                NaN      United States        2020.0  TV-MA  1 Season     6.6/10      TV Show                NaN\n",
       "1  e2ef4e91-fb25-42ab-b485-be8e3b23dedb                         #Alive  As a grisly virus rampages a city, a lone man ...                       Cho Il  Horror Movies, International Movies, Thrillers                           Yoo Ah-in, Park Shin-hye        South Korea        2020.0  TV-MA    99 min     6.2/10        Movie  September 8, 2020\n",
       "2  b01b73b7-81f6-47a7-86d8-acb63080d525  #AnneFrank - Parallel Stories  Through her diary, Anne Frank's story is retol...  Sabina Fedeli, Anna Migotto             Documentaries, International Movies                        Helen Mirren, Gengher Gatti              Italy        2019.0  TV-14    95 min     6.4/10        Movie       July 1, 2020\n",
       "3  b6611af0-f53c-4a08-9ffa-9716dc57eb9c                       #blackAF  Kenya Barris and his family navigate relations...                          NaN                                     TV Comedies  Kenya Barris, Rashida Jones, Iman Benson, Genn...      United States        2020.0  TV-MA  1 Season     6.6/10      TV Show                NaN\n",
       "4  7f2d4170-bab8-4d75-adc2-197f7124c070               #cats_the_mewvie  This pawesome documentary explores how our fel...             Michael Margolis             Documentaries, International Movies                                                NaN             Canada        2020.0  TV-14    90 min     5.1/10        Movie   February 5, 2020"
      ]
     },
     "execution_count": 2,
     "metadata": {},
     "output_type": "execute_result"
    }
   ],
   "source": [
    "# Check data\n",
    "\n",
    "df.head()"
   ]
  },
  {
   "cell_type": "code",
   "execution_count": 3,
   "metadata": {},
   "outputs": [
    {
     "data": {
      "text/plain": [
       "(5967, 13)"
      ]
     },
     "execution_count": 3,
     "metadata": {},
     "output_type": "execute_result"
    }
   ],
   "source": [
    "df.shape"
   ]
  },
  {
   "cell_type": "code",
   "execution_count": 4,
   "metadata": {},
   "outputs": [
    {
     "name": "stdout",
     "output_type": "stream",
     "text": [
      "<class 'pandas.core.frame.DataFrame'>\n",
      "RangeIndex: 5967 entries, 0 to 5966\n",
      "Data columns (total 13 columns):\n",
      " #   Column              Non-Null Count  Dtype  \n",
      "---  ------              --------------  -----  \n",
      " 0   Show Id             5967 non-null   object \n",
      " 1   Title               5967 non-null   object \n",
      " 2   Description         5967 non-null   object \n",
      " 3   Director            3903 non-null   object \n",
      " 4   Genres              5967 non-null   object \n",
      " 5   Cast                5437 non-null   object \n",
      " 6   Production Country  5408 non-null   object \n",
      " 7   Release Date        5964 non-null   float64\n",
      " 8   Rating              5963 non-null   object \n",
      " 9   Duration            5964 non-null   object \n",
      " 10  Imdb Score          5359 non-null   object \n",
      " 11  Content Type        5967 non-null   object \n",
      " 12  Date Added          4632 non-null   object \n",
      "dtypes: float64(1), object(12)\n",
      "memory usage: 606.1+ KB\n"
     ]
    }
   ],
   "source": [
    "df.info()"
   ]
  },
  {
   "cell_type": "code",
   "execution_count": 5,
   "metadata": {},
   "outputs": [],
   "source": [
    "df.drop([\"Show Id\"],axis=1, inplace=True)"
   ]
  },
  {
   "cell_type": "code",
   "execution_count": 6,
   "metadata": {},
   "outputs": [
    {
     "data": {
      "text/plain": [
       "Title                    0\n",
       "Description              0\n",
       "Director              2064\n",
       "Genres                   0\n",
       "Cast                   530\n",
       "Production Country     559\n",
       "Release Date             3\n",
       "Rating                   4\n",
       "Duration                 3\n",
       "Imdb Score             608\n",
       "Content Type             0\n",
       "Date Added            1335\n",
       "dtype: int64"
      ]
     },
     "execution_count": 6,
     "metadata": {},
     "output_type": "execute_result"
    }
   ],
   "source": [
    "df.isnull().sum()"
   ]
  },
  {
   "cell_type": "code",
   "execution_count": 7,
   "metadata": {},
   "outputs": [],
   "source": [
    "df.dropna(axis=0,inplace=True)"
   ]
  },
  {
   "cell_type": "code",
   "execution_count": 8,
   "metadata": {},
   "outputs": [
    {
     "data": {
      "text/plain": [
       "False"
      ]
     },
     "execution_count": 8,
     "metadata": {},
     "output_type": "execute_result"
    }
   ],
   "source": [
    "df.isnull().values.any()"
   ]
  },
  {
   "cell_type": "code",
   "execution_count": 9,
   "metadata": {},
   "outputs": [
    {
     "data": {
      "text/html": [
       "<div>\n",
       "<style scoped>\n",
       "    .dataframe tbody tr th:only-of-type {\n",
       "        vertical-align: middle;\n",
       "    }\n",
       "\n",
       "    .dataframe tbody tr th {\n",
       "        vertical-align: top;\n",
       "    }\n",
       "\n",
       "    .dataframe thead th {\n",
       "        text-align: right;\n",
       "    }\n",
       "</style>\n",
       "<table border=\"1\" class=\"dataframe\">\n",
       "  <thead>\n",
       "    <tr style=\"text-align: right;\">\n",
       "      <th></th>\n",
       "      <th>Title</th>\n",
       "      <th>Description</th>\n",
       "      <th>Director</th>\n",
       "      <th>Genres</th>\n",
       "      <th>Cast</th>\n",
       "      <th>Production_Country</th>\n",
       "      <th>Release_Date</th>\n",
       "      <th>Rating</th>\n",
       "      <th>Duration</th>\n",
       "      <th>Imdb_Score</th>\n",
       "      <th>Content_Type</th>\n",
       "      <th>Date_Added</th>\n",
       "    </tr>\n",
       "  </thead>\n",
       "  <tbody>\n",
       "    <tr>\n",
       "      <th>1</th>\n",
       "      <td>#Alive</td>\n",
       "      <td>As a grisly virus rampages a city, a lone man ...</td>\n",
       "      <td>Cho Il</td>\n",
       "      <td>Horror Movies, International Movies, Thrillers</td>\n",
       "      <td>Yoo Ah-in, Park Shin-hye</td>\n",
       "      <td>South Korea</td>\n",
       "      <td>2020.0</td>\n",
       "      <td>TV-MA</td>\n",
       "      <td>99 min</td>\n",
       "      <td>6.2/10</td>\n",
       "      <td>Movie</td>\n",
       "      <td>September 8, 2020</td>\n",
       "    </tr>\n",
       "    <tr>\n",
       "      <th>2</th>\n",
       "      <td>#AnneFrank - Parallel Stories</td>\n",
       "      <td>Through her diary, Anne Frank's story is retol...</td>\n",
       "      <td>Sabina Fedeli, Anna Migotto</td>\n",
       "      <td>Documentaries, International Movies</td>\n",
       "      <td>Helen Mirren, Gengher Gatti</td>\n",
       "      <td>Italy</td>\n",
       "      <td>2019.0</td>\n",
       "      <td>TV-14</td>\n",
       "      <td>95 min</td>\n",
       "      <td>6.4/10</td>\n",
       "      <td>Movie</td>\n",
       "      <td>July 1, 2020</td>\n",
       "    </tr>\n",
       "    <tr>\n",
       "      <th>5</th>\n",
       "      <td>#FriendButMarried</td>\n",
       "      <td>Pining for his high school crush for years, a ...</td>\n",
       "      <td>Rako Prijanto</td>\n",
       "      <td>Dramas, International Movies, Romantic Movies</td>\n",
       "      <td>Adipati Dolken, Vanesha Prescilla, Rendi Jhon,...</td>\n",
       "      <td>Indonesia</td>\n",
       "      <td>2018.0</td>\n",
       "      <td>TV-G</td>\n",
       "      <td>102 min</td>\n",
       "      <td>7.0/10</td>\n",
       "      <td>Movie</td>\n",
       "      <td>May 21, 2020</td>\n",
       "    </tr>\n",
       "    <tr>\n",
       "      <th>6</th>\n",
       "      <td>#FriendButMarried 2</td>\n",
       "      <td>As Ayu and Ditto finally transition from best ...</td>\n",
       "      <td>Rako Prijanto</td>\n",
       "      <td>Dramas, International Movies, Romantic Movies</td>\n",
       "      <td>Adipati Dolken, Mawar de Jongh, Sari Nila, Von...</td>\n",
       "      <td>Indonesia</td>\n",
       "      <td>2020.0</td>\n",
       "      <td>TV-G</td>\n",
       "      <td>104 min</td>\n",
       "      <td>7.0/10</td>\n",
       "      <td>Movie</td>\n",
       "      <td>June 28, 2020</td>\n",
       "    </tr>\n",
       "    <tr>\n",
       "      <th>7</th>\n",
       "      <td>#realityhigh</td>\n",
       "      <td>When nerdy high schooler Dani finally attracts...</td>\n",
       "      <td>Fernando Lebrija</td>\n",
       "      <td>Comedies</td>\n",
       "      <td>Nesta Cooper, Kate Walsh, John Michael Higgins...</td>\n",
       "      <td>United States</td>\n",
       "      <td>2017.0</td>\n",
       "      <td>TV-14</td>\n",
       "      <td>99 min</td>\n",
       "      <td>5.1/10</td>\n",
       "      <td>Movie</td>\n",
       "      <td>September 8, 2017</td>\n",
       "    </tr>\n",
       "  </tbody>\n",
       "</table>\n",
       "</div>"
      ],
      "text/plain": [
       "                           Title                                        Description                     Director                                          Genres                                               Cast Production_Country  Release_Date Rating Duration Imdb_Score Content_Type         Date_Added\n",
       "1                         #Alive  As a grisly virus rampages a city, a lone man ...                       Cho Il  Horror Movies, International Movies, Thrillers                           Yoo Ah-in, Park Shin-hye        South Korea        2020.0  TV-MA   99 min     6.2/10        Movie  September 8, 2020\n",
       "2  #AnneFrank - Parallel Stories  Through her diary, Anne Frank's story is retol...  Sabina Fedeli, Anna Migotto             Documentaries, International Movies                        Helen Mirren, Gengher Gatti              Italy        2019.0  TV-14   95 min     6.4/10        Movie       July 1, 2020\n",
       "5              #FriendButMarried  Pining for his high school crush for years, a ...                Rako Prijanto   Dramas, International Movies, Romantic Movies  Adipati Dolken, Vanesha Prescilla, Rendi Jhon,...          Indonesia        2018.0   TV-G  102 min     7.0/10        Movie       May 21, 2020\n",
       "6            #FriendButMarried 2  As Ayu and Ditto finally transition from best ...                Rako Prijanto   Dramas, International Movies, Romantic Movies  Adipati Dolken, Mawar de Jongh, Sari Nila, Von...          Indonesia        2020.0   TV-G  104 min     7.0/10        Movie      June 28, 2020\n",
       "7                   #realityhigh  When nerdy high schooler Dani finally attracts...             Fernando Lebrija                                        Comedies  Nesta Cooper, Kate Walsh, John Michael Higgins...      United States        2017.0  TV-14   99 min     5.1/10        Movie  September 8, 2017"
      ]
     },
     "execution_count": 9,
     "metadata": {},
     "output_type": "execute_result"
    }
   ],
   "source": [
    "# Change the naming of variables\n",
    "\n",
    "df.columns = [col.replace(\" \",\"_\") for col in df.columns]\n",
    "df.head()"
   ]
  },
  {
   "cell_type": "code",
   "execution_count": 10,
   "metadata": {},
   "outputs": [
    {
     "data": {
      "text/plain": [
       "dtype('float64')"
      ]
     },
     "execution_count": 10,
     "metadata": {},
     "output_type": "execute_result"
    }
   ],
   "source": [
    "# Changing the structure of the Imdb_Score variable\n",
    "\n",
    "df[\"Imdb_Score\"] = [df[\"Imdb_Score\"][i].replace(\"/10\",\"\") for i in df.index if type(df[\"Imdb_Score\"][i])==str ]\n",
    "df[\"Imdb_Score\"] = df[\"Imdb_Score\"].astype(float)\n",
    "df[\"Imdb_Score\"].dtypes"
   ]
  },
  {
   "cell_type": "code",
   "execution_count": 11,
   "metadata": {},
   "outputs": [
    {
     "data": {
      "text/plain": [
       "dtype('O')"
      ]
     },
     "execution_count": 11,
     "metadata": {},
     "output_type": "execute_result"
    }
   ],
   "source": [
    "# Check the type of the Genres variable, converting it into a list structure according to the genre of the movie\n",
    "\n",
    "df[\"Genres\"].dtypes"
   ]
  },
  {
   "cell_type": "code",
   "execution_count": 12,
   "metadata": {},
   "outputs": [
    {
     "data": {
      "text/plain": [
       "1    [HorrorMovies, InternationalMovies, Thrillers]\n",
       "2              [Documentaries, InternationalMovies]\n",
       "5     [Dramas, InternationalMovies, RomanticMovies]\n",
       "6     [Dramas, InternationalMovies, RomanticMovies]\n",
       "7                                        [Comedies]\n",
       "Name: Genres, dtype: object"
      ]
     },
     "execution_count": 12,
     "metadata": {},
     "output_type": "execute_result"
    }
   ],
   "source": [
    "df[\"Genres\"] = [df[\"Genres\"][i].replace(\" \",\"\") for i in df.index]\n",
    "df[\"Genres\"] = [df[\"Genres\"][i].split(\",\") for i in df.index if type(df[\"Genres\"][i])==str]\n",
    "df[\"Genres\"] .head()"
   ]
  },
  {
   "cell_type": "code",
   "execution_count": 13,
   "metadata": {},
   "outputs": [],
   "source": [
    "# Creating a variable of each type contained in the Genres variable.\n",
    "# The type that the observation contains in the \"Genres\" variable is set to 1 in the relevant variable.\n",
    "# This was accomplished in three different ways. Two paths have been added as text.\n",
    "\n",
    "genres_set = set() # The uniqueness of the elements of the set data type has been utilized."
   ]
  },
  {
   "cell_type": "code",
   "execution_count": 14,
   "metadata": {},
   "outputs": [],
   "source": [
    "for i in df.index:\n",
    "    if len(df[\"Genres\"][i])==1:\n",
    "        genres_set.add(df[\"Genres\"][i][0])\n",
    "\n",
    "    if len(df[\"Genres\"][i])==2:\n",
    "        genres_set.add(df[\"Genres\"][i][0])\n",
    "        genres_set.add(df[\"Genres\"][i][1])\n",
    "\n",
    "    if len(df[\"Genres\"][i])==3:\n",
    "        genres_set.add(df[\"Genres\"][i][0])\n",
    "        genres_set.add(df[\"Genres\"][i][1])\n",
    "        genres_set.add(df[\"Genres\"][i][2])"
   ]
  },
  {
   "cell_type": "code",
   "execution_count": 15,
   "metadata": {},
   "outputs": [],
   "source": [
    "genres_list = list (genres_set)"
   ]
  },
  {
   "cell_type": "code",
   "execution_count": 16,
   "metadata": {},
   "outputs": [],
   "source": [
    "#Way 1: For & Apply & Lambda\n",
    "\n",
    "\n",
    "for i in genres_list:\n",
    "    df[i] = df[\"Genres\"].apply(lambda x: 1 if i in x else 0 )"
   ]
  },
  {
   "cell_type": "code",
   "execution_count": 17,
   "metadata": {},
   "outputs": [
    {
     "data": {
      "text/plain": [
       "'\\n\\n# Way 2: For & If\\n\\nfor i in genres_list:\\n    df[i] = 0\\n\\nfor i in df.index:\\n\\n    if len(df[\"Genres\"][i])==1:\\n        for j in df.columns:\\n            if df[\"Genres\"][i][0] == j:\\n                df.loc[i,j] = 1\\n\\n    if len(df[\"Genres\"][i]) == 2:\\n        for j in df.columns:\\n            if df[\"Genres\"][i][0] == j:\\n                df.loc[i,j] = 1\\n            elif df[\"Genres\"][i][1] == j:\\n                df.loc[i,j] = 1\\n\\n    if len(df[\"Genres\"][i]) == 3:\\n        for j in df.columns:\\n            if df[\"Genres\"][i][0] == j:\\n                df.loc[i,j] = 1\\n            elif df[\"Genres\"][i][1] == j:\\n                df.loc[i,j] = 1\\n            elif df[\"Genres\"][i][2] == j:\\n                df.loc[i,j] = 1\\n\\n'"
      ]
     },
     "execution_count": 17,
     "metadata": {},
     "output_type": "execute_result"
    }
   ],
   "source": [
    "\"\"\"\n",
    "\n",
    "# Way 2: For & If\n",
    "\n",
    "for i in genres_list:\n",
    "    df[i] = 0\n",
    "\n",
    "for i in df.index:\n",
    "\n",
    "    if len(df[\"Genres\"][i])==1:\n",
    "        for j in df.columns:\n",
    "            if df[\"Genres\"][i][0] == j:\n",
    "                df.loc[i,j] = 1\n",
    "\n",
    "    if len(df[\"Genres\"][i]) == 2:\n",
    "        for j in df.columns:\n",
    "            if df[\"Genres\"][i][0] == j:\n",
    "                df.loc[i,j] = 1\n",
    "            elif df[\"Genres\"][i][1] == j:\n",
    "                df.loc[i,j] = 1\n",
    "\n",
    "    if len(df[\"Genres\"][i]) == 3:\n",
    "        for j in df.columns:\n",
    "            if df[\"Genres\"][i][0] == j:\n",
    "                df.loc[i,j] = 1\n",
    "            elif df[\"Genres\"][i][1] == j:\n",
    "                df.loc[i,j] = 1\n",
    "            elif df[\"Genres\"][i][2] == j:\n",
    "                df.loc[i,j] = 1\n",
    "\n",
    "\"\"\""
   ]
  },
  {
   "cell_type": "code",
   "execution_count": 18,
   "metadata": {},
   "outputs": [
    {
     "data": {
      "text/plain": [
       "'\\n\\nWay 3: One Hot Encoding\\n\\nNote: In order for this way to be implemented, the type of the Genres variable made before should not be converted to a list structure. \\nThe get_dummies function does not work in a list structure.\\n\\npd.get_dummies(df[\"Genres\"], columns = genres_list)\\n\\n'"
      ]
     },
     "execution_count": 18,
     "metadata": {},
     "output_type": "execute_result"
    }
   ],
   "source": [
    "\"\"\"\n",
    "\n",
    "Way 3: One Hot Encoding\n",
    "\n",
    "Note: In order for this way to be implemented, the type of the Genres variable made before should not be converted to a list structure. \n",
    "The get_dummies function does not work in a list structure.\n",
    "\n",
    "pd.get_dummies(df[\"Genres\"], columns = genres_list)\n",
    "\n",
    "\"\"\""
   ]
  },
  {
   "cell_type": "code",
   "execution_count": 19,
   "metadata": {},
   "outputs": [
    {
     "name": "stdout",
     "output_type": "stream",
     "text": [
      "### IMDB Averages for each movie/TVshow genre: ###\n",
      "Average IMDB rating of movie/TVshow genre Stand-UpComedy&TalkShows:     0.0009202453987730061\n",
      "### IMDB Averages for each movie/TVshow genre: ###\n",
      "Average IMDB rating of movie/TVshow genre Dramas:     0.4447852760736196\n",
      "### IMDB Averages for each movie/TVshow genre: ###\n",
      "Average IMDB rating of movie/TVshow genre Faith&Spirituality:     0.008588957055214725\n",
      "### IMDB Averages for each movie/TVshow genre: ###\n",
      "Average IMDB rating of movie/TVshow genre AnimeSeries:     0.0015337423312883436\n",
      "### IMDB Averages for each movie/TVshow genre: ###\n",
      "Average IMDB rating of movie/TVshow genre TVSci-Fi&Fantasy:     0.0006134969325153375\n",
      "### IMDB Averages for each movie/TVshow genre: ###\n",
      "Average IMDB rating of movie/TVshow genre Stand-UpComedy:     0.08466257668711656\n",
      "### IMDB Averages for each movie/TVshow genre: ###\n",
      "Average IMDB rating of movie/TVshow genre RomanticMovies:     0.11779141104294479\n",
      "### IMDB Averages for each movie/TVshow genre: ###\n",
      "Average IMDB rating of movie/TVshow genre Docuseries:     0.0006134969325153375\n",
      "### IMDB Averages for each movie/TVshow genre: ###\n",
      "Average IMDB rating of movie/TVshow genre TeenTVShows:     0.0006134969325153375\n",
      "### IMDB Averages for each movie/TVshow genre: ###\n",
      "Average IMDB rating of movie/TVshow genre Documentaries:     0.05889570552147239\n",
      "### IMDB Averages for each movie/TVshow genre: ###\n",
      "Average IMDB rating of movie/TVshow genre ClassicMovies:     0.009202453987730062\n",
      "### IMDB Averages for each movie/TVshow genre: ###\n",
      "Average IMDB rating of movie/TVshow genre CrimeTVShows:     0.0018404907975460123\n",
      "### IMDB Averages for each movie/TVshow genre: ###\n",
      "Average IMDB rating of movie/TVshow genre RomanticTVShows:     0.0015337423312883436\n",
      "### IMDB Averages for each movie/TVshow genre: ###\n",
      "Average IMDB rating of movie/TVshow genre AnimeFeatures:     0.015337423312883436\n",
      "### IMDB Averages for each movie/TVshow genre: ###\n",
      "Average IMDB rating of movie/TVshow genre Kids'TV:     0.0015337423312883436\n",
      "### IMDB Averages for each movie/TVshow genre: ###\n",
      "Average IMDB rating of movie/TVshow genre IndependentMovies:     0.12975460122699387\n",
      "### IMDB Averages for each movie/TVshow genre: ###\n",
      "Average IMDB rating of movie/TVshow genre Sci-Fi&Fantasy:     0.0352760736196319\n",
      "### IMDB Averages for each movie/TVshow genre: ###\n",
      "Average IMDB rating of movie/TVshow genre Movies:     0.003067484662576687\n",
      "### IMDB Averages for each movie/TVshow genre: ###\n",
      "Average IMDB rating of movie/TVshow genre InternationalTVShows:     0.005214723926380368\n",
      "### IMDB Averages for each movie/TVshow genre: ###\n",
      "Average IMDB rating of movie/TVshow genre LGBTQMovies:     0.01411042944785276\n",
      "### IMDB Averages for each movie/TVshow genre: ###\n",
      "Average IMDB rating of movie/TVshow genre Spanish-LanguageTVShows:     0.0006134969325153375\n",
      "### IMDB Averages for each movie/TVshow genre: ###\n",
      "Average IMDB rating of movie/TVshow genre CultMovies:     0.008282208588957056\n",
      "### IMDB Averages for each movie/TVshow genre: ###\n",
      "Average IMDB rating of movie/TVshow genre TVThrillers:     0.00030674846625766873\n",
      "### IMDB Averages for each movie/TVshow genre: ###\n",
      "Average IMDB rating of movie/TVshow genre InternationalMovies:     0.5061349693251533\n",
      "### IMDB Averages for each movie/TVshow genre: ###\n",
      "Average IMDB rating of movie/TVshow genre Comedies:     0.3061349693251534\n",
      "### IMDB Averages for each movie/TVshow genre: ###\n",
      "Average IMDB rating of movie/TVshow genre Thrillers:     0.10061349693251534\n",
      "### IMDB Averages for each movie/TVshow genre: ###\n",
      "Average IMDB rating of movie/TVshow genre RealityTV:     0.0006134969325153375\n",
      "### IMDB Averages for each movie/TVshow genre: ###\n",
      "Average IMDB rating of movie/TVshow genre BritishTVShows:     0.00245398773006135\n",
      "### IMDB Averages for each movie/TVshow genre: ###\n",
      "Average IMDB rating of movie/TVshow genre TVDramas:     0.003374233128834356\n",
      "### IMDB Averages for each movie/TVshow genre: ###\n",
      "Average IMDB rating of movie/TVshow genre TVHorror:     0.0006134969325153375\n",
      "### IMDB Averages for each movie/TVshow genre: ###\n",
      "Average IMDB rating of movie/TVshow genre TVComedies:     0.00245398773006135\n",
      "### IMDB Averages for each movie/TVshow genre: ###\n",
      "Average IMDB rating of movie/TVshow genre Action&Adventure:     0.14202453987730063\n",
      "### IMDB Averages for each movie/TVshow genre: ###\n",
      "Average IMDB rating of movie/TVshow genre SportsMovies:     0.025766871165644172\n",
      "### IMDB Averages for each movie/TVshow genre: ###\n",
      "Average IMDB rating of movie/TVshow genre TVMysteries:     0.0009202453987730061\n",
      "### IMDB Averages for each movie/TVshow genre: ###\n",
      "Average IMDB rating of movie/TVshow genre HorrorMovies:     0.05644171779141104\n",
      "### IMDB Averages for each movie/TVshow genre: ###\n",
      "Average IMDB rating of movie/TVshow genre Classic&CultTV:     0.0009202453987730061\n",
      "### IMDB Averages for each movie/TVshow genre: ###\n",
      "Average IMDB rating of movie/TVshow genre KoreanTVShows:     0.0006134969325153375\n",
      "### IMDB Averages for each movie/TVshow genre: ###\n",
      "Average IMDB rating of movie/TVshow genre Music&Musicals:     0.05889570552147239\n",
      "### IMDB Averages for each movie/TVshow genre: ###\n",
      "Average IMDB rating of movie/TVshow genre TVAction&Adventure:     0.0027607361963190185\n",
      "### IMDB Averages for each movie/TVshow genre: ###\n",
      "Average IMDB rating of movie/TVshow genre Children&FamilyMovies:     0.09018404907975461\n"
     ]
    }
   ],
   "source": [
    "# Reviewing IMDB Score\n",
    "\n",
    "# Analysis of IMDB score by genre\n",
    "\n",
    "for i in genres_list:\n",
    "    print(\"### IMDB Averages for each movie/TVshow genre: ###\")\n",
    "    print(f\"Average IMDB rating of movie/TVshow genre {i}:     {df[i].mean()}\")"
   ]
  },
  {
   "cell_type": "code",
   "execution_count": 20,
   "metadata": {},
   "outputs": [],
   "source": [
    "IMDB_average_Genres = {}\n",
    "\n",
    "for i in genres_list:\n",
    "    IMDB_average_Genres[i] = df[i].mean()"
   ]
  },
  {
   "cell_type": "code",
   "execution_count": 21,
   "metadata": {},
   "outputs": [
    {
     "name": "stdout",
     "output_type": "stream",
     "text": [
      "The InternationalMovies genre is the highest movie genre with an IMDB score average of 0.5061349693251533 \n",
      "### Average IMDB Ratings of TV Shows and Movies ###\n",
      "              Imdb_Score\n",
      "Content_Type            \n",
      "Movie           6.218602\n",
      "TV Show         7.422500\n"
     ]
    }
   ],
   "source": [
    "print(f\"The {max(IMDB_average_Genres,key=IMDB_average_Genres.get)} genre is the highest movie genre with an IMDB score average of {IMDB_average_Genres[max(IMDB_average_Genres,key=IMDB_average_Genres.get)]} \")\n",
    "print('### Average IMDB Ratings of TV Shows and Movies ###')\n",
    "print (df.groupby(by = \"Content_Type\").agg({\"Imdb_Score\":\"mean\"}))"
   ]
  },
  {
   "cell_type": "code",
   "execution_count": 22,
   "metadata": {},
   "outputs": [],
   "source": [
    "# Analysis of IMDB score by duration\n",
    "\n",
    "df_movies = df[df[\"Content_Type\"] == \"Movie\"]\n",
    "df_TVshow = df[df[\"Content_Type\"] == \"TV Show\"]"
   ]
  },
  {
   "cell_type": "code",
   "execution_count": 23,
   "metadata": {},
   "outputs": [
    {
     "data": {
      "text/plain": [
       "1        99 min\n",
       "2        95 min\n",
       "5       102 min\n",
       "6       104 min\n",
       "7        99 min\n",
       "         ...   \n",
       "5955     94 min\n",
       "5957    103 min\n",
       "5958     99 min\n",
       "5962    115 min\n",
       "5965    110 min\n",
       "Name: Duration, Length: 3220, dtype: object"
      ]
     },
     "execution_count": 23,
     "metadata": {},
     "output_type": "execute_result"
    }
   ],
   "source": [
    "df_movies[\"Duration\"].astype(\"O\")"
   ]
  },
  {
   "cell_type": "code",
   "execution_count": 24,
   "metadata": {},
   "outputs": [
    {
     "name": "stderr",
     "output_type": "stream",
     "text": [
      "C:\\Users\\melih.oznalbant\\AppData\\Local\\Temp\\ipykernel_20352\\2606833070.py:1: SettingWithCopyWarning: \n",
      "A value is trying to be set on a copy of a slice from a DataFrame.\n",
      "Try using .loc[row_indexer,col_indexer] = value instead\n",
      "\n",
      "See the caveats in the documentation: https://pandas.pydata.org/pandas-docs/stable/user_guide/indexing.html#returning-a-view-versus-a-copy\n",
      "  df_movies[\"Duration\"] = [i.replace(\" min\",\"\") for i in df_movies[\"Duration\"]]\n"
     ]
    }
   ],
   "source": [
    "df_movies[\"Duration\"] = [i.replace(\" min\",\"\") for i in df_movies[\"Duration\"]]\n"
   ]
  },
  {
   "cell_type": "code",
   "execution_count": 25,
   "metadata": {},
   "outputs": [
    {
     "name": "stderr",
     "output_type": "stream",
     "text": [
      "C:\\Users\\melih.oznalbant\\AppData\\Local\\Temp\\ipykernel_20352\\3194392974.py:1: SettingWithCopyWarning: \n",
      "A value is trying to be set on a copy of a slice from a DataFrame.\n",
      "Try using .loc[row_indexer,col_indexer] = value instead\n",
      "\n",
      "See the caveats in the documentation: https://pandas.pydata.org/pandas-docs/stable/user_guide/indexing.html#returning-a-view-versus-a-copy\n",
      "  df_movies[\"Duration\"] = df_movies[\"Duration\"].astype(int)\n",
      "C:\\Users\\melih.oznalbant\\AppData\\Local\\Temp\\ipykernel_20352\\3194392974.py:2: SettingWithCopyWarning: \n",
      "A value is trying to be set on a copy of a slice from a DataFrame.\n",
      "Try using .loc[row_indexer,col_indexer] = value instead\n",
      "\n",
      "See the caveats in the documentation: https://pandas.pydata.org/pandas-docs/stable/user_guide/indexing.html#returning-a-view-versus-a-copy\n",
      "  df_movies[\"Duration_Part\"]= pd.qcut(df_movies[\"Duration\"],5,labels=[\"Too Short\",\"Short\",\"Normal\",\"Long\",\"Too Long\"])\n"
     ]
    }
   ],
   "source": [
    "df_movies[\"Duration\"] = df_movies[\"Duration\"].astype(int)\n",
    "df_movies[\"Duration_Part\"]= pd.qcut(df_movies[\"Duration\"],5,labels=[\"Too Short\",\"Short\",\"Normal\",\"Long\",\"Too Long\"])\n"
   ]
  },
  {
   "cell_type": "code",
   "execution_count": 26,
   "metadata": {},
   "outputs": [
    {
     "name": "stdout",
     "output_type": "stream",
     "text": [
      "### Average IMDB Ratings of Movies by Length ### \n",
      "               Imdb_Score\n",
      "Duration_Part            \n",
      "Too Short        6.302246\n",
      "Short            5.843011\n",
      "Normal           6.049173\n",
      "Long             6.261301\n",
      "Too Long         6.661514\n"
     ]
    },
    {
     "data": {
      "image/png": "[encoded data removed]",
      "text/plain": [
       "<Figure size 432x288 with 1 Axes>"
      ]
     },
     "metadata": {
      "needs_background": "light"
     },
     "output_type": "display_data"
    }
   ],
   "source": [
    "print (\"### Average IMDB Ratings of Movies by Length ### \")\n",
    "print(df_movies.groupby(by = \"Duration_Part\").agg({\"Imdb_Score\":\"mean\"}))\n",
    "sns.countplot(x = df_movies[\"Duration_Part\"],data = df_movies)\n",
    "plt.show(block=True)"
   ]
  },
  {
   "cell_type": "code",
   "execution_count": 27,
   "metadata": {},
   "outputs": [
    {
     "name": "stderr",
     "output_type": "stream",
     "text": [
      "C:\\Users\\melih.oznalbant\\AppData\\Local\\Temp\\ipykernel_20352\\182996298.py:1: SettingWithCopyWarning: \n",
      "A value is trying to be set on a copy of a slice from a DataFrame.\n",
      "Try using .loc[row_indexer,col_indexer] = value instead\n",
      "\n",
      "See the caveats in the documentation: https://pandas.pydata.org/pandas-docs/stable/user_guide/indexing.html#returning-a-view-versus-a-copy\n",
      "  df_TVshow[\"Duration\"] = [i.replace(\" Seasons\",\"\") if \"Seasons\" in i else i.replace(\" Season\",\"\") for i in df_TVshow[\"Duration\"]]\n",
      "C:\\Users\\melih.oznalbant\\AppData\\Local\\Temp\\ipykernel_20352\\182996298.py:2: SettingWithCopyWarning: \n",
      "A value is trying to be set on a copy of a slice from a DataFrame.\n",
      "Try using .loc[row_indexer,col_indexer] = value instead\n",
      "\n",
      "See the caveats in the documentation: https://pandas.pydata.org/pandas-docs/stable/user_guide/indexing.html#returning-a-view-versus-a-copy\n",
      "  df_TVshow[\"Duration\"] = df_TVshow[\"Duration\"].astype(int)\n",
      "C:\\Users\\melih.oznalbant\\AppData\\Local\\Temp\\ipykernel_20352\\182996298.py:3: SettingWithCopyWarning: \n",
      "A value is trying to be set on a copy of a slice from a DataFrame.\n",
      "Try using .loc[row_indexer,col_indexer] = value instead\n",
      "\n",
      "See the caveats in the documentation: https://pandas.pydata.org/pandas-docs/stable/user_guide/indexing.html#returning-a-view-versus-a-copy\n",
      "  df_TVshow[\"Duration_Part\"]= pd.cut(df_TVshow[\"Duration\"],[0,2,4,8,14,20],labels=[\"1-2 Season\",\"3-4 Season\",\"5-8 Season\",\"8-14 Season\",\"14-20 Season\"])\n"
     ]
    }
   ],
   "source": [
    "df_TVshow[\"Duration\"] = [i.replace(\" Seasons\",\"\") if \"Seasons\" in i else i.replace(\" Season\",\"\") for i in df_TVshow[\"Duration\"]]\n",
    "df_TVshow[\"Duration\"] = df_TVshow[\"Duration\"].astype(int)\n",
    "df_TVshow[\"Duration_Part\"]= pd.cut(df_TVshow[\"Duration\"],[0,2,4,8,14,20],labels=[\"1-2 Season\",\"3-4 Season\",\"5-8 Season\",\"8-14 Season\",\"14-20 Season\"])\n"
   ]
  },
  {
   "cell_type": "code",
   "execution_count": 28,
   "metadata": {},
   "outputs": [
    {
     "name": "stdout",
     "output_type": "stream",
     "text": [
      "### Average IMDB Ratings of TV Shows by Season Number ### \n",
      "               Imdb_Score\n",
      "Duration_Part            \n",
      "1-2 Season       6.990000\n",
      "3-4 Season       7.814286\n",
      "5-8 Season       7.730000\n",
      "8-14 Season      8.350000\n",
      "14-20 Season     8.400000\n"
     ]
    },
    {
     "data": {
      "image/png": "[encoded data removed]",
      "text/plain": [
       "<Figure size 432x288 with 1 Axes>"
      ]
     },
     "metadata": {
      "needs_background": "light"
     },
     "output_type": "display_data"
    }
   ],
   "source": [
    "print (\"### Average IMDB Ratings of TV Shows by Season Number ### \")\n",
    "print(df_TVshow.groupby(by = \"Duration_Part\").agg({\"Imdb_Score\":\"mean\"}))\n",
    "sns.countplot(x = df_TVshow[\"Duration_Part\"],data = df_TVshow)\n",
    "plt.show(block=True)\n"
   ]
  },
  {
   "cell_type": "code",
   "execution_count": 29,
   "metadata": {},
   "outputs": [],
   "source": [
    "# 1. Set Up The Hypothesis\n",
    "\n",
    "# HO: m1 = m2 = m3 = m4 : There is no difference between IMDB averages according to the number of seasons.\n",
    "\n",
    "# H1: There is a difference between the IMDB averages according to the season numbers"
   ]
  },
  {
   "cell_type": "code",
   "execution_count": 30,
   "metadata": {},
   "outputs": [],
   "source": [
    "# 2. Assumption Control\n",
    "\n",
    "# Normality assumption\n",
    "# Assumption of homogeneity of variance\n",
    "\n",
    "# If the assumptions are met, the One Way Anova method is used.\n",
    "# If the assumptions are not provided, the Kruskal method is used.\n"
   ]
  },
  {
   "cell_type": "code",
   "execution_count": 31,
   "metadata": {},
   "outputs": [
    {
     "name": "stdout",
     "output_type": "stream",
     "text": [
      "5-8 Season p-value: 0.6037\n",
      "8-20 Season p-value: -0.0000\n",
      "3-4 Season p-value: 0.2953\n",
      "1-2 Season p-value: 0.8915\n"
     ]
    },
    {
     "name": "stderr",
     "output_type": "stream",
     "text": [
      "C:\\Users\\melih.oznalbant\\AppData\\Local\\Temp\\ipykernel_20352\\3125553398.py:5: SettingWithCopyWarning: \n",
      "A value is trying to be set on a copy of a slice from a DataFrame.\n",
      "Try using .loc[row_indexer,col_indexer] = value instead\n",
      "\n",
      "See the caveats in the documentation: https://pandas.pydata.org/pandas-docs/stable/user_guide/indexing.html#returning-a-view-versus-a-copy\n",
      "  df_TVshow[\"Duration_Part_Test\"]= pd.cut(df_TVshow[\"Duration\"],[0,2,4,8,20],labels=[\"1-2 Season\",\"3-4 Season\",\"5-8 Season\",\"8-20 Season\"])\n"
     ]
    }
   ],
   "source": [
    "## Normality Assumption Control\n",
    "# H0: Normal distribution assumption is provided.\n",
    "# H1: The assumption of normal distribution is not provided.\n",
    "\n",
    "df_TVshow[\"Duration_Part_Test\"]= pd.cut(df_TVshow[\"Duration\"],[0,2,4,8,20],labels=[\"1-2 Season\",\"3-4 Season\",\"5-8 Season\",\"8-20 Season\"])\n",
    "\n",
    "for season in list(df_TVshow[\"Duration_Part_Test\"].unique()):\n",
    "    pvalue = shapiro(df_TVshow.loc[df_TVshow[\"Duration_Part_Test\"] == season, \"Imdb_Score\"])[1]\n",
    "    print(season, 'p-value: %.4f' % pvalue)"
   ]
  },
  {
   "cell_type": "code",
   "execution_count": 32,
   "metadata": {},
   "outputs": [],
   "source": [
    "# Since the p-value for the 8-20 season is less than 0.05, the assumption of normality is not provided."
   ]
  },
  {
   "cell_type": "code",
   "execution_count": 33,
   "metadata": {},
   "outputs": [
    {
     "name": "stdout",
     "output_type": "stream",
     "text": [
      "Test Stat = 1.5867, p-value = 0.2095\n"
     ]
    }
   ],
   "source": [
    "## Assumption of Homogeneity of Variance Control\n",
    "# H0: Assumption of variance homogeneity is provided.\n",
    "# H1: The variance homogeneity assumption is not provided.\n",
    "\n",
    "test_stat, pvalue = levene(df_TVshow.loc[df_TVshow[\"Duration_Part_Test\"] == \"1-2 Season\", \"Imdb_Score\"],\n",
    "df_TVshow.loc[df_TVshow[\"Duration_Part_Test\"] == \"3-4 Season\", \"Imdb_Score\"],\n",
    "df_TVshow.loc[df_TVshow[\"Duration_Part_Test\"] == \"5-8 Season\", \"Imdb_Score\"],\n",
    "df_TVshow.loc[df_TVshow[\"Duration_Part_Test\"] == \"8-20 Season\", \"Imdb_Score\"])\n",
    "\n",
    "\n",
    "print('Test Stat = %.4f, p-value = %.4f' % (test_stat, pvalue))"
   ]
  },
  {
   "cell_type": "code",
   "execution_count": 34,
   "metadata": {},
   "outputs": [],
   "source": [
    "# Since the p-value is greater than 0.05, the assumption of homogeneity of variance is provided.\n",
    "\n",
    "# However, since the assumption of normality is not provided, nonparametric ANOVA test is applied."
   ]
  },
  {
   "cell_type": "code",
   "execution_count": 35,
   "metadata": {},
   "outputs": [
    {
     "name": "stdout",
     "output_type": "stream",
     "text": [
      "Test Stat = 9.9639, p-value = 0.0189\n"
     ]
    }
   ],
   "source": [
    "test_stat, pvalue = kruskal(df_TVshow.loc[df_TVshow[\"Duration_Part_Test\"] == \"1-2 Season\", \"Imdb_Score\"],\n",
    "        df_TVshow.loc[df_TVshow[\"Duration_Part_Test\"] == \"3-4 Season\", \"Imdb_Score\"],\n",
    "        df_TVshow.loc[df_TVshow[\"Duration_Part_Test\"] == \"5-8 Season\", \"Imdb_Score\"],\n",
    "        df_TVshow.loc[df_TVshow[\"Duration_Part_Test\"] == \"8-20 Season\", \"Imdb_Score\"])\n",
    "\n",
    "print('Test Stat = %.4f, p-value = %.4f' % (test_stat, pvalue))"
   ]
  },
  {
   "cell_type": "code",
   "execution_count": 36,
   "metadata": {},
   "outputs": [],
   "source": [
    "# H0 hypothesis is rejected because the p-value is less than 0.05. This means that there is a statistically significant difference in IMDB scores for TV Shows according to the number of seasons."
   ]
  }
 ],
 "metadata": {
  "kernelspec": {
   "display_name": "Python 3.9.12",
   "language": "python",
   "name": "python3"
  },
  "language_info": {
   "codemirror_mode": {
    "name": "ipython",
    "version": 3
   },
   "file_extension": ".py",
   "mimetype": "text/x-python",
   "name": "python",
   "nbconvert_exporter": "python",
   "pygments_lexer": "ipython3",
   "version": "3.9.12"
  },
  "orig_nbformat": 4,
  "vscode": {
   "interpreter": {
    "hash": "ef2ffce1289c3bfdf479aebd4dc78cfdc89a8ce6ec46e85b9185610668179cc7"
   }
  }
 },
 "nbformat": 4,
 "nbformat_minor": 2
}
